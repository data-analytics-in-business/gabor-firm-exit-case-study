{
 "cells": [
  {
   "cell_type": "markdown",
   "id": "adc54e82",
   "metadata": {},
   "source": [
    "# Introduction\n",
    "(?)"
   ]
  },
  {
   "cell_type": "code",
   "execution_count": null,
   "id": "d10ab988",
   "metadata": {},
   "outputs": [],
   "source": [
    "%matplotlib inline\n",
    "import matplotlib.pyplot as plt\n",
    "import pandas as pd\n",
    "import numpy as np\n",
    "from plotnine import *\n",
    "pd.set_option('mode.chained_assignment',None)"
   ]
  },
  {
   "cell_type": "markdown",
   "id": "2d9abec6",
   "metadata": {},
   "source": [
    "# Data Collection\n",
    "(Just load)"
   ]
  },
  {
   "cell_type": "code",
   "execution_count": null,
   "id": "b4b8b312",
   "metadata": {},
   "outputs": [],
   "source": [
    "url = \"https://github.com/data-analytics-in-business/gabor-firm-exit-case-study/raw/main/data/sample_2012.csv\"\n",
    "df = pd.read_csv(url)\n",
    "df.head()"
   ]
  },
  {
   "cell_type": "markdown",
   "id": "9438c88d",
   "metadata": {},
   "source": [
    "# Feature Engineering"
   ]
  },
  {
   "cell_type": "markdown",
   "id": "727c87a2",
   "metadata": {},
   "source": [
    "## Sales"
   ]
  },
  {
   "cell_type": "code",
   "execution_count": null,
   "id": "e1433abb",
   "metadata": {},
   "outputs": [],
   "source": [
    "df['default'] = df['default'].astype(str)"
   ]
  },
  {
   "cell_type": "code",
   "execution_count": null,
   "id": "737f7ded",
   "metadata": {},
   "outputs": [],
   "source": [
    "(ggplot(df, aes(x='sales', color='default', fill='default'))\n",
    "     + geom_density(alpha=0.1)\n",
    ")"
   ]
  },
  {
   "cell_type": "markdown",
   "id": "d3c34b7a",
   "metadata": {},
   "source": [
    "Looks like a difference, but..."
   ]
  },
  {
   "cell_type": "code",
   "execution_count": null,
   "id": "6dc58db2",
   "metadata": {},
   "outputs": [],
   "source": [
    "df['log_sales'] = np.log(df['sales'])\n",
    "(ggplot(df, aes(x='log_sales', color='default', fill='default'))\n",
    "     + geom_density(alpha=0.1)\n",
    ")"
   ]
  },
  {
   "cell_type": "markdown",
   "id": "58142905",
   "metadata": {},
   "source": [
    "## Profit and Loss"
   ]
  },
  {
   "cell_type": "code",
   "execution_count": null,
   "id": "99d763a6",
   "metadata": {},
   "outputs": [],
   "source": [
    "(ggplot(df, aes(x='profit_loss_year', color='default', fill='default'))\n",
    "     + geom_density(alpha=0.1)\n",
    ")"
   ]
  },
  {
   "cell_type": "code",
   "execution_count": null,
   "id": "edb98a23",
   "metadata": {},
   "outputs": [],
   "source": [
    "df['p+l_scaled'] = np.sign(df['profit_loss_year'])*(np.log(np.abs(df['profit_loss_year'])+1))\n",
    "df['p+l_scaled'] = np.where(df['p+l_scaled'].isna(), 0, df['p+l_scaled'])\n",
    "\n",
    "(ggplot(df, aes(x='p+l_scaled', color='default', fill='default'))\n",
    "     + geom_density(alpha=0.1)\n",
    ")"
   ]
  },
  {
   "cell_type": "markdown",
   "id": "10bd14dd",
   "metadata": {},
   "source": [
    "## Industry type"
   ]
  },
  {
   "cell_type": "code",
   "execution_count": null,
   "id": "a2aa8aca",
   "metadata": {},
   "outputs": [],
   "source": [
    "#df['ind'].value_counts()\n",
    "df['ind_cat'] = df['ind']\n",
    "df['ind_cat'] = np.where(df['ind_cat'].isna(), 0, df['ind_cat'])\n",
    "(ggplot(df, aes(x='ind_cat',fill='default'))\n",
    " + geom_histogram(binwidth=0.5)\n",
    ")"
   ]
  },
  {
   "cell_type": "markdown",
   "id": "e1bb2f4e",
   "metadata": {},
   "source": [
    "# Analytics Base Table"
   ]
  },
  {
   "cell_type": "code",
   "execution_count": null,
   "id": "1a7f56f4",
   "metadata": {},
   "outputs": [],
   "source": [
    "df_ABT = df[['log_sales','p+l_scaled','ind_cat','default']]\n",
    "df_ABT.to_csv('../data/sample_2012_ABT.csv', index=False)\n",
    "df_ABT.info()"
   ]
  }
 ],
 "metadata": {
  "kernelspec": {
   "display_name": "Python 3 (ipykernel)",
   "language": "python",
   "name": "python3"
  },
  "language_info": {
   "codemirror_mode": {
    "name": "ipython",
    "version": 3
   },
   "file_extension": ".py",
   "mimetype": "text/x-python",
   "name": "python",
   "nbconvert_exporter": "python",
   "pygments_lexer": "ipython3",
   "version": "3.7.9"
  }
 },
 "nbformat": 4,
 "nbformat_minor": 5
}
