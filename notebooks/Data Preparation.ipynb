{
 "cells": [
  {
   "cell_type": "markdown",
   "id": "9ab84334",
   "metadata": {},
   "source": [
    "# Introduction\n",
    "In this tutorial we are going to begin working through the steps required to build a machine learning model (a \"prediction machine\"). We will apply the predictive analytics methods covered in the lecture and aim to build a model which can predict the probability that a company will \"exit\" (i.e. not be active in the future). Then, taking on the role of a client bank, we will then use the model to decide whether to provide the company with a bank loan or not.\n",
    "\n",
    "In this first notebook, we will simply collect some data, design our study sample, and engineer some target features (labels) which we can use to train a machine learning model.\n",
    "\n",
    "Let's begin by importing the `pandas` package."
   ]
  },
  {
   "cell_type": "code",
   "execution_count": null,
   "id": "23c265df",
   "metadata": {},
   "outputs": [],
   "source": [
    "import pandas as pd\n",
    "pd.set_option('mode.chained_assignment',None)"
   ]
  },
  {
   "cell_type": "markdown",
   "id": "68166015",
   "metadata": {},
   "source": [
    "# Data Collection\n",
    "We will be using data taken from the [Predicting firm exit: probability and classification](https://gabors-data-analysis.com/casestudies/#ch17a-predicting-firm-exit-probability-and-classification) case study by [Gabor & Gabor 2021](https://bris.on.worldcat.org/oclc/1250272914). Many of the techniques used in this tutorial are discussed in Chapter 17 of Gabor & Gabor 2021, and further details and background knowledge can be found in this very good book which is available online through the University Library.\n",
    "\n",
    "*Hint*: If you are unfamiliar with a concept, it's worth looking for it in Gabor & Gabor 2021.\n",
    "\n",
    "The dataset will be using is available online from the OSF [website](https://osf.io/b2ft9/). This means we can simply download and import the data using the Pandas `read_csv` function. Let's read in the data and use the `head` method to take a peek."
   ]
  },
  {
   "cell_type": "code",
   "execution_count": null,
   "id": "83ccd0f6",
   "metadata": {},
   "outputs": [],
   "source": [
    "df = pd.read_csv(\"https://osf.io/download/3qyut/\")\n",
    "df.head()"
   ]
  },
  {
   "cell_type": "markdown",
   "id": "4fa3cd94",
   "metadata": {},
   "source": [
    "# Sample Design\n",
    "We are not going to use the whole dataset for this study. We are going to attempt to design a study *sample* that aligns with the business problem we want to solve, which can be described as follows:\n",
    "\n",
    "**Business Problem**: It is 1st January 2015, our client is a bank who provides company loans, and they want to build a model to predict whether a company (who is applying for a loan) will default on the bank loan or not. \n",
    "\n",
    "We suggest using 2012 data to build predictors and using 2014 data to approximate the whether a company will default on loan repayments in the future or not. Additionally, the client states they would only consider providing a loan to companies with sales greater than €1000 and less tham €10m.\n",
    "\n",
    "Let's use the Pandas `query` to extract from the the study sample from the dataset and use the `info` method to see what columns are in the data."
   ]
  },
  {
   "cell_type": "code",
   "execution_count": null,
   "id": "98956bb4",
   "metadata": {},
   "outputs": [],
   "source": [
    "df_sample_2012 = df.query(\"year==2012 & sales >= 1000 & sales<=10000000\")\n",
    "df_sample_2012.info()"
   ]
  },
  {
   "cell_type": "markdown",
   "id": "57699b1b",
   "metadata": {},
   "source": [
    "**Note**: Descriptions of the variables names can be found online [here](https://osf.io/9a3t4)."
   ]
  },
  {
   "cell_type": "markdown",
   "id": "1a86fa7a",
   "metadata": {},
   "source": [
    "# Label Engineering\n",
    "Given a lack of labels indicating whether a company defaulted or not, we suggest using future sales data as a *proxy* for whether a company is active or not in the future and, as a result, whether they can repay their loan or not. This process is often called *label engineering* in which we engineer a label approximating the outcome we really want to measure (i.e., whether the company defaulted or not). \n",
    "\n",
    "To do this, we will use data from 2014 to check which companies were active (`sales > 0`) in 2014 and then check which companies in our 2012 sample were *still* active in 2014. We will then use this information to create our (proxy) target `default` label/feature. Finally we will use the `describe` method to inspect our target variable."
   ]
  },
  {
   "cell_type": "code",
   "execution_count": null,
   "id": "597d7356",
   "metadata": {},
   "outputs": [],
   "source": [
    "# Identify which companies were active (i.e., sales > 0) in 2014\n",
    "active_comps_2014 = df.query(\"year==2014 & sales > 0\")['comp_id']\n",
    "\n",
    "# Idenitfy which companies from 2012 were not active in 2014\n",
    "sample_not_active = ~df_sample_2012['comp_id'].isin(active_comps_2014).copy()\n",
    "\n",
    "# Assume a company from 2012 will default if it is not active in 2014\n",
    "df_sample_2012.loc[:,'default'] = sample_not_active.astype(int)\n",
    "\n",
    "# Describe the target variable\n",
    "print(df_sample_2012['default'].describe())"
   ]
  },
  {
   "cell_type": "markdown",
   "id": "53c77be2",
   "metadata": {},
   "source": [
    "Finally, you could save the data. Though this has already been done for you."
   ]
  },
  {
   "cell_type": "code",
   "execution_count": null,
   "id": "a746902f",
   "metadata": {},
   "outputs": [],
   "source": [
    "df_sample_2012.to_csv('../data/sample_2012.csv', index=False)"
   ]
  },
  {
   "cell_type": "markdown",
   "id": "1b2e92e3",
   "metadata": {},
   "source": [
    "# Exercise\n",
    "In the code block below, create a study sample which:\n",
    "* Contains observations of companies from 2011 who had current assets greater than €10,000 in 2011\n",
    "* Contains a column (`target`) indicating whether each company still had current assets greater than €10,000 in 2013\n",
    "\n",
    "Then use the `describe` method to answer the following questions:\n",
    "1. How many companies are there in the 2011 sample you created?\n",
    "2. Roughly what % of those companies still had current assets greater than €10,000 in 2013?"
   ]
  },
  {
   "cell_type": "code",
   "execution_count": null,
   "id": "2aebf0fa",
   "metadata": {},
   "outputs": [],
   "source": [
    "# (SOLUTION)\n"
   ]
  }
 ],
 "metadata": {
  "kernelspec": {
   "display_name": "Python 3 (ipykernel)",
   "language": "python",
   "name": "python3"
  },
  "language_info": {
   "codemirror_mode": {
    "name": "ipython",
    "version": 3
   },
   "file_extension": ".py",
   "mimetype": "text/x-python",
   "name": "python",
   "nbconvert_exporter": "python",
   "pygments_lexer": "ipython3",
   "version": "3.7.9"
  }
 },
 "nbformat": 4,
 "nbformat_minor": 5
}
