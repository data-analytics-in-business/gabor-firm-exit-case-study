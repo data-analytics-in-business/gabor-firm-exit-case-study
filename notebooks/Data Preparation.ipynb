{
 "cells": [
  {
   "cell_type": "markdown",
   "id": "9ab84334",
   "metadata": {},
   "source": [
    "# Introduction\n",
    "(Write some introduction)"
   ]
  },
  {
   "cell_type": "code",
   "execution_count": null,
   "id": "23c265df",
   "metadata": {},
   "outputs": [],
   "source": [
    "import pandas as pd\n",
    "pd.set_option('mode.chained_assignment',None)"
   ]
  },
  {
   "cell_type": "markdown",
   "id": "68166015",
   "metadata": {},
   "source": [
    "# Data Collection\n",
    "Run the code below to download the dataset. (Talk more about where the data comes from...)"
   ]
  },
  {
   "cell_type": "code",
   "execution_count": null,
   "id": "83ccd0f6",
   "metadata": {},
   "outputs": [],
   "source": [
    "df = pd.read_csv(\"https://osf.io/download/3qyut/\")\n",
    "df.head()"
   ]
  },
  {
   "cell_type": "markdown",
   "id": "4fa3cd94",
   "metadata": {},
   "source": [
    "# Sample Design\n",
    "**Background Context**: It is 1st January 2015, our client is a bank who provides company loans, and they want to build a model to predict whether a company (who is applying for a loan) will default on the bank loan or not.\n",
    "\n",
    "**Analytical Solution**: We suggest using historical data to build a model which can predict whether a company will default in the future based on company data from the past. We suggest using 2012 data to build predictors and using 2014 data approximate the outcome (default or not). \n",
    "\n",
    "**Sample Critera**: The client states they would only consider companies with sales greater than €1000 and less tham €10m."
   ]
  },
  {
   "cell_type": "code",
   "execution_count": null,
   "id": "98956bb4",
   "metadata": {},
   "outputs": [],
   "source": [
    "df_sample_2012 = df.query(\"year==2012 & sales >= 1000 & sales<=10000000\")\n",
    "#df_2012_sample.info()"
   ]
  },
  {
   "cell_type": "markdown",
   "id": "1a86fa7a",
   "metadata": {},
   "source": [
    "# Label Engineering\n",
    "For each company in the sample, we need to engineer a label representing our target outcome (i.e., whether the company will default or not. "
   ]
  },
  {
   "cell_type": "code",
   "execution_count": null,
   "id": "597d7356",
   "metadata": {},
   "outputs": [],
   "source": [
    "# Identify which companies were active (i.e., sales > 0) in 2014\n",
    "active_comps_2014 = df.query(\"year==2014 & sales > 0\")['comp_id']\n",
    "\n",
    "# Idenitfy which companies from 2012 were not active in 2014\n",
    "sample_not_active = ~df_sample_2012['comp_id'].isin(active_comps_2014).copy()\n",
    "\n",
    "# Assume a company from 2012 will default if it is not active in 2014\n",
    "df_sample_2012.loc[:,'default'] = sample_not_active.astype(int)\n",
    "\n",
    "# Describe the target variable\n",
    "print(df_sample_2012['default'].describe())"
   ]
  },
  {
   "cell_type": "markdown",
   "id": "53c77be2",
   "metadata": {},
   "source": [
    "**Question**: Roughly what % of companies in the 2012 sample were still active in 2014?\n",
    "\n",
    "**Question**: How accurately do you think the engineered `default` feature reflects whether a company would default on a bank loan or not?"
   ]
  },
  {
   "cell_type": "code",
   "execution_count": null,
   "id": "a746902f",
   "metadata": {},
   "outputs": [],
   "source": [
    "# Save the data\n",
    "df_sample_2012.to_csv('../data/sample_2012.csv', index=False)"
   ]
  }
 ],
 "metadata": {
  "kernelspec": {
   "display_name": "Python 3 (ipykernel)",
   "language": "python",
   "name": "python3"
  },
  "language_info": {
   "codemirror_mode": {
    "name": "ipython",
    "version": 3
   },
   "file_extension": ".py",
   "mimetype": "text/x-python",
   "name": "python",
   "nbconvert_exporter": "python",
   "pygments_lexer": "ipython3",
   "version": "3.7.9"
  }
 },
 "nbformat": 4,
 "nbformat_minor": 5
}
