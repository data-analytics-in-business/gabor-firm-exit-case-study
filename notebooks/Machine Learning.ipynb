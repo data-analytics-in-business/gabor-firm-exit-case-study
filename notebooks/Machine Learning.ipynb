{
 "cells": [
  {
   "cell_type": "markdown",
   "id": "22ea6b59",
   "metadata": {},
   "source": [
    "# Introduction\n",
    "In this notebook we are going to load some data, preprocess the data so it is in a suitable format for machine learning, and then fit and evaluate a machine learning model. More specifically, we are going to:\n",
    "1. Use the `pandas` package to load our (predictive) Analytics Base Table (ABT) `.csv` data\n",
    "2. Use the `sklearn.preprocessing` package to preprocess the descriptive features in the ABT\n",
    "3. Use the `LogisticRegression` class to train (A.K.A. \"fit\") a logistic regression model\n",
    "4. Use the `sklearn.metrics` package to evaluate the performance of the model\n",
    "\n",
    "Let's begin by loading in the required packages, along with `matplotlib` and `plotnine` for creating some visualisations."
   ]
  },
  {
   "cell_type": "code",
   "execution_count": 1,
   "id": "428dccef",
   "metadata": {},
   "outputs": [],
   "source": [
    "%matplotlib inline\n",
    "import pandas as pd\n",
    "from sklearn.preprocessing import MinMaxScaler, OneHotEncoder\n",
    "from sklearn.linear_model import LogisticRegression\n",
    "from sklearn.metrics import ConfusionMatrixDisplay\n",
    "import matplotlib.pyplot as plt\n",
    "from plotnine import *\n",
    "pd.set_option('mode.chained_assignment',None)\n",
    "import json"
   ]
  },
  {
   "cell_type": "markdown",
   "id": "f9839ef1",
   "metadata": {},
   "source": [
    "# Data Collection\n",
    "Let's collect the ABT directly from the GitHub repo."
   ]
  },
  {
   "cell_type": "code",
   "execution_count": 2,
   "id": "5a4e849d",
   "metadata": {},
   "outputs": [
    {
     "data": {
      "text/html": [
       "<div>\n",
       "<style scoped>\n",
       "    .dataframe tbody tr th:only-of-type {\n",
       "        vertical-align: middle;\n",
       "    }\n",
       "\n",
       "    .dataframe tbody tr th {\n",
       "        vertical-align: top;\n",
       "    }\n",
       "\n",
       "    .dataframe thead th {\n",
       "        text-align: right;\n",
       "    }\n",
       "</style>\n",
       "<table border=\"1\" class=\"dataframe\">\n",
       "  <thead>\n",
       "    <tr style=\"text-align: right;\">\n",
       "      <th></th>\n",
       "      <th>log_sales</th>\n",
       "      <th>p+l_scaled</th>\n",
       "      <th>ind_cat</th>\n",
       "      <th>default</th>\n",
       "    </tr>\n",
       "  </thead>\n",
       "  <tbody>\n",
       "    <tr>\n",
       "      <th>0</th>\n",
       "      <td>7.093159</td>\n",
       "      <td>-8.951987</td>\n",
       "      <td>3</td>\n",
       "      <td>0</td>\n",
       "    </tr>\n",
       "    <tr>\n",
       "      <th>1</th>\n",
       "      <td>13.943477</td>\n",
       "      <td>9.182272</td>\n",
       "      <td>2</td>\n",
       "      <td>0</td>\n",
       "    </tr>\n",
       "    <tr>\n",
       "      <th>2</th>\n",
       "      <td>7.932070</td>\n",
       "      <td>-7.758650</td>\n",
       "      <td>3</td>\n",
       "      <td>1</td>\n",
       "    </tr>\n",
       "    <tr>\n",
       "      <th>3</th>\n",
       "      <td>12.980031</td>\n",
       "      <td>11.479915</td>\n",
       "      <td>3</td>\n",
       "      <td>0</td>\n",
       "    </tr>\n",
       "    <tr>\n",
       "      <th>4</th>\n",
       "      <td>11.773208</td>\n",
       "      <td>-7.763383</td>\n",
       "      <td>3</td>\n",
       "      <td>0</td>\n",
       "    </tr>\n",
       "  </tbody>\n",
       "</table>\n",
       "</div>"
      ],
      "text/plain": [
       "   log_sales  p+l_scaled  ind_cat  default\n",
       "0   7.093159   -8.951987        3        0\n",
       "1  13.943477    9.182272        2        0\n",
       "2   7.932070   -7.758650        3        1\n",
       "3  12.980031   11.479915        3        0\n",
       "4  11.773208   -7.763383        3        0"
      ]
     },
     "execution_count": 2,
     "metadata": {},
     "output_type": "execute_result"
    }
   ],
   "source": [
    "data_repo_url = \"https://github.com/data-analytics-in-business/gabor-firm-exit-case-study/raw/main/data/\"\n",
    "data_file = \"sample_2012_ABT.csv\"\n",
    "ABT = pd.read_csv(data_repo_url+data_file)\n",
    "ABT.head()"
   ]
  },
  {
   "cell_type": "markdown",
   "id": "80b380a2",
   "metadata": {},
   "source": [
    "# Data Preprocessing\n",
    "Before we can pass our data to a machine learning algorithm, we need to preprcoess the data so that it is in a suitable format. How we preprocess the data will vary depending on the type of data.\n",
    "\n",
    "First, let's split out ABT into a target feature `y` and descriptive features `X`."
   ]
  },
  {
   "cell_type": "code",
   "execution_count": 3,
   "id": "cec3b271",
   "metadata": {},
   "outputs": [],
   "source": [
    "y = ABT['default']\n",
    "X = ABT.drop(columns=['default'])"
   ]
  },
  {
   "cell_type": "markdown",
   "id": "0981693a",
   "metadata": {},
   "source": [
    "Now let's split our descriptive features (`X`) into those that are *numeric* (`X_num`) and those that are *categorical* (`X_cat`), and preprocess them accordingly."
   ]
  },
  {
   "cell_type": "code",
   "execution_count": 4,
   "id": "2efb2fcb",
   "metadata": {},
   "outputs": [],
   "source": [
    "X_num = X[['log_sales','p+l_scaled']]\n",
    "X_cat = X['ind_cat'].values.reshape(-1, 1)"
   ]
  },
  {
   "cell_type": "markdown",
   "id": "cbfb891a",
   "metadata": {},
   "source": [
    "**Note**: We use the `.reshape(-1, 1)` method to ensure `X_cat` is the correct shape. This is something we need to do when preprocessing a one-dimensional feature array."
   ]
  },
  {
   "cell_type": "markdown",
   "id": "d9d7f987",
   "metadata": {},
   "source": [
    "## Preprocessing numeric features\n",
    "To preprocess the numeric variables, we are going to use the `MinMaxScaler` [class](https://scikit-learn.org/stable/modules/generated/sklearn.preprocessing.MinMaxScaler.html) to scale each numeric feature to be in the range `(0,1)`. Let's create an instance of `MinMaxScaler` and then `fit` and `transform` in one step. Finally, we are going to convert `X_num_scaled` back into a `DataFrame` and `describe` it so we can see the preprocessing step has worked properly."
   ]
  },
  {
   "cell_type": "code",
   "execution_count": 5,
   "id": "6a15ea3d",
   "metadata": {},
   "outputs": [
    {
     "data": {
      "text/html": [
       "<div>\n",
       "<style scoped>\n",
       "    .dataframe tbody tr th:only-of-type {\n",
       "        vertical-align: middle;\n",
       "    }\n",
       "\n",
       "    .dataframe tbody tr th {\n",
       "        vertical-align: top;\n",
       "    }\n",
       "\n",
       "    .dataframe thead th {\n",
       "        text-align: right;\n",
       "    }\n",
       "</style>\n",
       "<table border=\"1\" class=\"dataframe\">\n",
       "  <thead>\n",
       "    <tr style=\"text-align: right;\">\n",
       "      <th></th>\n",
       "      <th>log_sales</th>\n",
       "      <th>p+l_scaled</th>\n",
       "    </tr>\n",
       "  </thead>\n",
       "  <tbody>\n",
       "    <tr>\n",
       "      <th>count</th>\n",
       "      <td>21723.000000</td>\n",
       "      <td>21723.000000</td>\n",
       "    </tr>\n",
       "    <tr>\n",
       "      <th>mean</th>\n",
       "      <td>0.412989</td>\n",
       "      <td>0.514362</td>\n",
       "    </tr>\n",
       "    <tr>\n",
       "      <th>std</th>\n",
       "      <td>0.185791</td>\n",
       "      <td>0.266175</td>\n",
       "    </tr>\n",
       "    <tr>\n",
       "      <th>min</th>\n",
       "      <td>0.000000</td>\n",
       "      <td>0.000000</td>\n",
       "    </tr>\n",
       "    <tr>\n",
       "      <th>25%</th>\n",
       "      <td>0.289106</td>\n",
       "      <td>0.237396</td>\n",
       "    </tr>\n",
       "    <tr>\n",
       "      <th>50%</th>\n",
       "      <td>0.405245</td>\n",
       "      <td>0.625309</td>\n",
       "    </tr>\n",
       "    <tr>\n",
       "      <th>75%</th>\n",
       "      <td>0.528688</td>\n",
       "      <td>0.765611</td>\n",
       "    </tr>\n",
       "    <tr>\n",
       "      <th>max</th>\n",
       "      <td>1.000000</td>\n",
       "      <td>1.000000</td>\n",
       "    </tr>\n",
       "  </tbody>\n",
       "</table>\n",
       "</div>"
      ],
      "text/plain": [
       "          log_sales    p+l_scaled\n",
       "count  21723.000000  21723.000000\n",
       "mean       0.412989      0.514362\n",
       "std        0.185791      0.266175\n",
       "min        0.000000      0.000000\n",
       "25%        0.289106      0.237396\n",
       "50%        0.405245      0.625309\n",
       "75%        0.528688      0.765611\n",
       "max        1.000000      1.000000"
      ]
     },
     "execution_count": 5,
     "metadata": {},
     "output_type": "execute_result"
    }
   ],
   "source": [
    "minmax_scaler = MinMaxScaler()\n",
    "X_num_scaled = minmax_scaler.fit_transform(X_num)\n",
    "X_num_scaled = pd.DataFrame(X_num_scaled, columns=X_num.columns)\n",
    "X_num_scaled.describe()"
   ]
  },
  {
   "cell_type": "markdown",
   "id": "213be2d1",
   "metadata": {},
   "source": [
    "## Preprocessing categorical features\n",
    "To preprocess the categorical variables, we are going to use the `OneHotEncoder` [class](https://scikit-learn.org/stable/modules/generated/sklearn.preprocessing.OneHotEncoder.html) to encode each categorical feature as a one-hot numeric array. Let's create an instance of `OneHotEncoder` and then `fit` and `transform` in one step. Finally, we are going to convert `X_cat_onehot` back into a `DataFrame` and print the `head` so we can see the preprocessing step has worked properly."
   ]
  },
  {
   "cell_type": "code",
   "execution_count": 6,
   "id": "a462e2eb",
   "metadata": {},
   "outputs": [
    {
     "data": {
      "text/html": [
       "<div>\n",
       "<style scoped>\n",
       "    .dataframe tbody tr th:only-of-type {\n",
       "        vertical-align: middle;\n",
       "    }\n",
       "\n",
       "    .dataframe tbody tr th {\n",
       "        vertical-align: top;\n",
       "    }\n",
       "\n",
       "    .dataframe thead th {\n",
       "        text-align: right;\n",
       "    }\n",
       "</style>\n",
       "<table border=\"1\" class=\"dataframe\">\n",
       "  <thead>\n",
       "    <tr style=\"text-align: right;\">\n",
       "      <th></th>\n",
       "      <th>ind_cat_1</th>\n",
       "      <th>ind_cat_2</th>\n",
       "      <th>ind_cat_3</th>\n",
       "    </tr>\n",
       "  </thead>\n",
       "  <tbody>\n",
       "    <tr>\n",
       "      <th>0</th>\n",
       "      <td>0.0</td>\n",
       "      <td>0.0</td>\n",
       "      <td>1.0</td>\n",
       "    </tr>\n",
       "    <tr>\n",
       "      <th>1</th>\n",
       "      <td>0.0</td>\n",
       "      <td>1.0</td>\n",
       "      <td>0.0</td>\n",
       "    </tr>\n",
       "    <tr>\n",
       "      <th>2</th>\n",
       "      <td>0.0</td>\n",
       "      <td>0.0</td>\n",
       "      <td>1.0</td>\n",
       "    </tr>\n",
       "    <tr>\n",
       "      <th>3</th>\n",
       "      <td>0.0</td>\n",
       "      <td>0.0</td>\n",
       "      <td>1.0</td>\n",
       "    </tr>\n",
       "    <tr>\n",
       "      <th>4</th>\n",
       "      <td>0.0</td>\n",
       "      <td>0.0</td>\n",
       "      <td>1.0</td>\n",
       "    </tr>\n",
       "  </tbody>\n",
       "</table>\n",
       "</div>"
      ],
      "text/plain": [
       "   ind_cat_1  ind_cat_2  ind_cat_3\n",
       "0        0.0        0.0        1.0\n",
       "1        0.0        1.0        0.0\n",
       "2        0.0        0.0        1.0\n",
       "3        0.0        0.0        1.0\n",
       "4        0.0        0.0        1.0"
      ]
     },
     "execution_count": 6,
     "metadata": {},
     "output_type": "execute_result"
    }
   ],
   "source": [
    "hot_encoder = OneHotEncoder(drop='first', handle_unknown=\"ignore\", sparse=False)\n",
    "X_cat_onehot = hot_encoder.fit_transform(X_cat)\n",
    "X_cat_onehot = pd.DataFrame(X_cat_onehot,columns=hot_encoder.get_feature_names_out(['ind_cat']))\n",
    "X_cat_onehot.head()"
   ]
  },
  {
   "cell_type": "markdown",
   "id": "7058a527",
   "metadata": {},
   "source": [
    "## Re-joining numeric and categorical features\n",
    "Before we train our model, we are going to re-join our (preprocessed) numeric and categorical features into one `X_preprocessed` array of our (processed) descriptive features. Let's print the `head` to check things look OK.\n",
    "\n",
    "**Note**: We can concatenate (`concat`) them only because the ordering of our rows/examples have not changed. "
   ]
  },
  {
   "cell_type": "code",
   "execution_count": 7,
   "id": "c919d563",
   "metadata": {},
   "outputs": [
    {
     "data": {
      "text/html": [
       "<div>\n",
       "<style scoped>\n",
       "    .dataframe tbody tr th:only-of-type {\n",
       "        vertical-align: middle;\n",
       "    }\n",
       "\n",
       "    .dataframe tbody tr th {\n",
       "        vertical-align: top;\n",
       "    }\n",
       "\n",
       "    .dataframe thead th {\n",
       "        text-align: right;\n",
       "    }\n",
       "</style>\n",
       "<table border=\"1\" class=\"dataframe\">\n",
       "  <thead>\n",
       "    <tr style=\"text-align: right;\">\n",
       "      <th></th>\n",
       "      <th>log_sales</th>\n",
       "      <th>p+l_scaled</th>\n",
       "      <th>ind_cat_1</th>\n",
       "      <th>ind_cat_2</th>\n",
       "      <th>ind_cat_3</th>\n",
       "    </tr>\n",
       "  </thead>\n",
       "  <tbody>\n",
       "    <tr>\n",
       "      <th>0</th>\n",
       "      <td>0.020132</td>\n",
       "      <td>0.231099</td>\n",
       "      <td>0.0</td>\n",
       "      <td>0.0</td>\n",
       "      <td>1.0</td>\n",
       "    </tr>\n",
       "    <tr>\n",
       "      <th>1</th>\n",
       "      <td>0.763982</td>\n",
       "      <td>0.808822</td>\n",
       "      <td>0.0</td>\n",
       "      <td>1.0</td>\n",
       "      <td>0.0</td>\n",
       "    </tr>\n",
       "    <tr>\n",
       "      <th>2</th>\n",
       "      <td>0.111226</td>\n",
       "      <td>0.269116</td>\n",
       "      <td>0.0</td>\n",
       "      <td>0.0</td>\n",
       "      <td>1.0</td>\n",
       "    </tr>\n",
       "    <tr>\n",
       "      <th>3</th>\n",
       "      <td>0.659366</td>\n",
       "      <td>0.882020</td>\n",
       "      <td>0.0</td>\n",
       "      <td>0.0</td>\n",
       "      <td>1.0</td>\n",
       "    </tr>\n",
       "    <tr>\n",
       "      <th>4</th>\n",
       "      <td>0.528321</td>\n",
       "      <td>0.268965</td>\n",
       "      <td>0.0</td>\n",
       "      <td>0.0</td>\n",
       "      <td>1.0</td>\n",
       "    </tr>\n",
       "  </tbody>\n",
       "</table>\n",
       "</div>"
      ],
      "text/plain": [
       "   log_sales  p+l_scaled  ind_cat_1  ind_cat_2  ind_cat_3\n",
       "0   0.020132    0.231099        0.0        0.0        1.0\n",
       "1   0.763982    0.808822        0.0        1.0        0.0\n",
       "2   0.111226    0.269116        0.0        0.0        1.0\n",
       "3   0.659366    0.882020        0.0        0.0        1.0\n",
       "4   0.528321    0.268965        0.0        0.0        1.0"
      ]
     },
     "execution_count": 7,
     "metadata": {},
     "output_type": "execute_result"
    }
   ],
   "source": [
    "X_processed = pd.concat([X_num_scaled, X_cat_onehot], axis=1)\n",
    "X_processed.head()"
   ]
  },
  {
   "cell_type": "markdown",
   "id": "daf10b7a",
   "metadata": {},
   "source": [
    "# Fit model\n",
    "Now we have preprocessed our features to a suitable format, we can use `X_processed` and `y` to train a machine learning model. Let's create an instance of the `LogisticRegression` [class](https://scikit-learn.org/stable/modules/generated/sklearn.linear_model.LogisticRegression.html) and `fit` the model to the training data."
   ]
  },
  {
   "cell_type": "code",
   "execution_count": 8,
   "id": "ca950ab0",
   "metadata": {},
   "outputs": [
    {
     "data": {
      "text/plain": [
       "LogisticRegression()"
      ]
     },
     "execution_count": 8,
     "metadata": {},
     "output_type": "execute_result"
    }
   ],
   "source": [
    "model = LogisticRegression()\n",
    "model.fit(X_processed,y)"
   ]
  },
  {
   "cell_type": "markdown",
   "id": "754a1dc3",
   "metadata": {},
   "source": [
    "# Evaluate model\n",
    "Let's now assume that we had this model back in 2012 when the descriptive features were collected, ignoring the fact that we wouldn't have had the data to train the model :)\n",
    "\n",
    "Refreshing our memories of our application domain, we want to use the model to predict the likelihood a company will default, and then use those probabilities to decide whether to approve a loan or not (assuming one was applied for).\n",
    "\n",
    "More precisely, we will:\n",
    "1. Use the model to generate an estimate of the probability that each company will default\n",
    "2. Threshold the probability values to decide whether to approve a loan or not\n",
    "3. Compare these decisions to whether the company defaulted in the future or not\n",
    "\n",
    "Run the code below."
   ]
  },
  {
   "cell_type": "code",
   "execution_count": 9,
   "id": "e93b75f5",
   "metadata": {},
   "outputs": [
    {
     "data": {
      "image/png": "[encoded data removed]",
      "text/plain": [
       "<Figure size 640x480 with 2 Axes>"
      ]
     },
     "metadata": {},
     "output_type": "display_data"
    }
   ],
   "source": [
    "prob_default = model.predict_proba(X_processed)[:, 1]\n",
    "threshold = 0.5\n",
    "loan_approved = prob_default < threshold\n",
    "company_defaults = y\n",
    "\n",
    "ax= plt.subplot()\n",
    "ConfusionMatrixDisplay.from_predictions(company_defaults,loan_approved,ax=ax,display_labels=['no','yes'])\n",
    "ax.set_xlabel('Loan approved')\n",
    "ax.set_ylabel('Company defaults')\n",
    "plt.show()"
   ]
  },
  {
   "cell_type": "markdown",
   "id": "17a6c933",
   "metadata": {},
   "source": [
    "# Exercise\n",
    "1. Inspect the above visualisation and discuss whether it shows good performance or not.\n",
    "2. Explore different values for `threshold` and justify some different values.\n",
    "3. If you have reached this point, return to the original dataset and consider which additional features would be worth incorporating into the model. "
   ]
  }
 ],
 "metadata": {
  "kernelspec": {
   "display_name": "Python 3 (ipykernel)",
   "language": "python",
   "name": "python3"
  },
  "language_info": {
   "codemirror_mode": {
    "name": "ipython",
    "version": 3
   },
   "file_extension": ".py",
   "mimetype": "text/x-python",
   "name": "python",
   "nbconvert_exporter": "python",
   "pygments_lexer": "ipython3",
   "version": "3.7.9"
  }
 },
 "nbformat": 4,
 "nbformat_minor": 5
}
